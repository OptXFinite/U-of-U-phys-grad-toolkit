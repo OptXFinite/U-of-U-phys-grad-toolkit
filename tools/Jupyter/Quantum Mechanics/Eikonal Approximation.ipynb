{
 "cells": [
  {
   "cell_type": "code",
   "execution_count": 1,
   "metadata": {},
   "outputs": [],
   "source": [
    "from sympy import *"
   ]
  },
  {
   "cell_type": "code",
   "execution_count": 4,
   "metadata": {},
   "outputs": [],
   "source": [
    "r, b, z, m, k, h_bar, V_0, mu = symbols(\"r, b, z, m, k, hbar, V_0, mu\")"
   ]
  },
  {
   "cell_type": "code",
   "execution_count": 14,
   "metadata": {},
   "outputs": [
    {
     "data": {
      "text/latex": [
       "$\\displaystyle - \\frac{V_{0} m z \\int\\limits_{-\\infty}^{\\infty} \\frac{e^{- \\mu r}}{r^{2}}\\, dr}{2 \\hbar^{2} k \\mu}$"
      ],
      "text/plain": [
       "-V_0*m*z*Integral(exp(-mu*r)/r**2, (r, -oo, oo))/(2*hbar**2*k*mu)"
      ]
     },
     "metadata": {},
     "output_type": "display_data"
    }
   ],
   "source": [
    "def Eikonal_delta_r(V):\n",
    "    dr_dz = z/r\n",
    "    integrand = -m/(2*k*h_bar**2)*V*dr_dz\n",
    "    return integrate(integrand, (r, -oo, oo))\n",
    "\n",
    "V_r_Yukawa = V_0*exp(-mu*r)/(mu*r)\n",
    "delta_b = Eikonal_delta_r(V_r_Yukawa)\n",
    "display(delta_b)"
   ]
  },
  {
   "cell_type": "code",
   "execution_count": null,
   "metadata": {},
   "outputs": [],
   "source": []
  }
 ],
 "metadata": {
  "interpreter": {
   "hash": "916dbcbb3f70747c44a77c7bcd40155683ae19c65e1c03b4aa3499c5328201f1"
  },
  "kernelspec": {
   "display_name": "Python 3 (ipykernel)",
   "language": "python",
   "name": "python3"
  },
  "language_info": {
   "codemirror_mode": {
    "name": "ipython",
    "version": 3
   },
   "file_extension": ".py",
   "mimetype": "text/x-python",
   "name": "python",
   "nbconvert_exporter": "python",
   "pygments_lexer": "ipython3",
   "version": "3.10.4"
  }
 },
 "nbformat": 4,
 "nbformat_minor": 2
}
