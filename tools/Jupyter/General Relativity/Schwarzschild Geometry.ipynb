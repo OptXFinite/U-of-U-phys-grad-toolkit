{
 "cells": [
  {
   "cell_type": "markdown",
   "metadata": {},
   "source": [
    "<h3>Calculate Christoffel Symbols & Curvature tensor using Schwarzschild metric</h3>"
   ]
  },
  {
   "cell_type": "code",
   "execution_count": 12,
   "metadata": {},
   "outputs": [],
   "source": [
    "from sympy import *\n",
    "import numpy as np\n",
    "import matplotlib.pyplot as plt\n",
    "from einsteinpy.symbolic.predefined import Schwarzschild\n",
    "from einsteinpy.symbolic import ChristoffelSymbols, RiemannCurvatureTensor, MetricTensor"
   ]
  },
  {
   "cell_type": "markdown",
   "metadata": {},
   "source": [
    "<h4>Christoffels from metric</h4>"
   ]
  },
  {
   "cell_type": "code",
   "execution_count": 13,
   "metadata": {},
   "outputs": [
    {
     "data": {
      "text/latex": [
       "$\\displaystyle \\left[\\begin{matrix}\\frac{2 M}{r} - 1 & 0 & 0 & 0\\\\0 & \\frac{1}{- \\frac{2 M}{r} + 1} & 0 & 0\\\\0 & 0 & r^{2} & 0\\\\0 & 0 & 0 & r^{2} \\sin^{2}{\\left(\\theta \\right)}\\end{matrix}\\right]$"
      ],
      "text/plain": [
       "[[2*M/r - 1, 0, 0, 0], [0, 1/(-2*M/r + 1), 0, 0], [0, 0, r**2, 0], [0, 0, 0, r**2*sin(theta)**2]]"
      ]
     },
     "metadata": {},
     "output_type": "display_data"
    }
   ],
   "source": [
    "M = symbols('M')\n",
    "coords = symbols('t r theta phi')\n",
    "\n",
    "schwarzschild = Schwarzschild(-1, 2*M)\n",
    "#screwy but takes care of our opposite eta convention\n",
    "metric = schwarzschild.tensor()\n",
    "m = MetricTensor(-1*metric,coords)\n",
    "display(m.tensor())\n",
    "\n",
    "\n",
    "ch = ChristoffelSymbols.from_metric(m)"
   ]
  },
  {
   "cell_type": "code",
   "execution_count": 14,
   "metadata": {},
   "outputs": [
    {
     "data": {
      "text/latex": [
       "$\\displaystyle \\Gamma^{t}_{r t} = 0$"
      ],
      "text/plain": [
       "Eq(Gamma^t_r_t, 0)"
      ]
     },
     "metadata": {},
     "output_type": "display_data"
    },
    {
     "data": {
      "text/latex": [
       "$\\displaystyle - \\frac{M}{r^{2} \\left(\\frac{2 M}{r} - 1\\right)}$"
      ],
      "text/plain": [
       "-M/(r**2*(2*M/r - 1))"
      ]
     },
     "metadata": {},
     "output_type": "display_data"
    }
   ],
   "source": [
    "# example symbol get\n",
    "display(Eq(symbols(\"Gamma^t_r_t\")))\n",
    "display(ch[0][1][0])"
   ]
  },
  {
   "cell_type": "markdown",
   "metadata": {},
   "source": [
    "<h4>Curvature tensor from Christoffels</h4>"
   ]
  },
  {
   "cell_type": "code",
   "execution_count": 15,
   "metadata": {},
   "outputs": [],
   "source": [
    "rt = RiemannCurvatureTensor.from_christoffels(ch)"
   ]
  },
  {
   "cell_type": "code",
   "execution_count": 16,
   "metadata": {},
   "outputs": [
    {
     "data": {
      "text/latex": [
       "$\\displaystyle R^{t}_{r t r}$"
      ],
      "text/plain": [
       "R^t_r_t_r"
      ]
     },
     "metadata": {},
     "output_type": "display_data"
    },
    {
     "data": {
      "text/latex": [
       "$\\displaystyle \\frac{2 M}{r^{2} \\left(- 2 M + r\\right)}$"
      ],
      "text/plain": [
       "2*M/(r**2*(-2*M + r))"
      ]
     },
     "metadata": {},
     "output_type": "display_data"
    }
   ],
   "source": [
    "# Example component get\n",
    "display(symbols(\"R^t_r_t_r\"))\n",
    "display(rt[0][1][0][1])"
   ]
  },
  {
   "cell_type": "markdown",
   "metadata": {},
   "source": [
    "<h4>Change tensor indices</h4>"
   ]
  },
  {
   "cell_type": "code",
   "execution_count": 17,
   "metadata": {},
   "outputs": [
    {
     "data": {
      "text/latex": [
       "$\\displaystyle \\left[\\begin{matrix}\\left[\\begin{matrix}0 & 0 & 0 & 0\\\\0 & 0 & 0 & 0\\\\0 & 0 & 0 & 0\\\\0 & 0 & 0 & 0\\end{matrix}\\right] & \\left[\\begin{matrix}0 & - \\frac{2 M}{r^{3}} & 0 & 0\\\\\\frac{2 M}{r^{3}} & 0 & 0 & 0\\\\0 & 0 & 0 & 0\\\\0 & 0 & 0 & 0\\end{matrix}\\right] & \\left[\\begin{matrix}0 & 0 & \\frac{M}{r^{4} \\left(- 2 M + r\\right)} & 0\\\\0 & 0 & 0 & 0\\\\\\frac{M}{r^{4} \\left(2 M - r\\right)} & 0 & 0 & 0\\\\0 & 0 & 0 & 0\\end{matrix}\\right] & \\left[\\begin{matrix}0 & 0 & 0 & \\frac{M}{r^{4} \\left(- 2 M + r\\right) \\sin^{2}{\\left(\\theta \\right)}}\\\\0 & 0 & 0 & 0\\\\0 & 0 & 0 & 0\\\\\\frac{M}{r^{4} \\left(2 M - r\\right) \\sin^{2}{\\left(\\theta \\right)}} & 0 & 0 & 0\\end{matrix}\\right]\\\\\\left[\\begin{matrix}0 & \\frac{2 M}{r^{3}} & 0 & 0\\\\- \\frac{2 M}{r^{3}} & 0 & 0 & 0\\\\0 & 0 & 0 & 0\\\\0 & 0 & 0 & 0\\end{matrix}\\right] & \\left[\\begin{matrix}0 & 0 & 0 & 0\\\\0 & 0 & 0 & 0\\\\0 & 0 & 0 & 0\\\\0 & 0 & 0 & 0\\end{matrix}\\right] & \\left[\\begin{matrix}0 & 0 & 0 & 0\\\\0 & 0 & \\frac{M \\left(2 M - r\\right)}{r^{6}} & 0\\\\0 & \\frac{M \\left(- 2 M + r\\right)}{r^{6}} & 0 & 0\\\\0 & 0 & 0 & 0\\end{matrix}\\right] & \\left[\\begin{matrix}0 & 0 & 0 & 0\\\\0 & 0 & 0 & \\frac{M \\left(2 M - r\\right)}{r^{6} \\sin^{2}{\\left(\\theta \\right)}}\\\\0 & 0 & 0 & 0\\\\0 & \\frac{M \\left(- 2 M + r\\right)}{r^{6} \\sin^{2}{\\left(\\theta \\right)}} & 0 & 0\\end{matrix}\\right]\\\\\\left[\\begin{matrix}0 & 0 & \\frac{M}{r^{4} \\left(2 M - r\\right)} & 0\\\\0 & 0 & 0 & 0\\\\\\frac{M}{r^{4} \\left(- 2 M + r\\right)} & 0 & 0 & 0\\\\0 & 0 & 0 & 0\\end{matrix}\\right] & \\left[\\begin{matrix}0 & 0 & 0 & 0\\\\0 & 0 & \\frac{M \\left(- 2 M + r\\right)}{r^{6}} & 0\\\\0 & \\frac{M \\left(2 M - r\\right)}{r^{6}} & 0 & 0\\\\0 & 0 & 0 & 0\\end{matrix}\\right] & \\left[\\begin{matrix}0 & 0 & 0 & 0\\\\0 & 0 & 0 & 0\\\\0 & 0 & 0 & 0\\\\0 & 0 & 0 & 0\\end{matrix}\\right] & \\left[\\begin{matrix}0 & 0 & 0 & 0\\\\0 & 0 & 0 & 0\\\\0 & 0 & 0 & \\frac{2 M}{r^{7} \\sin^{2}{\\left(\\theta \\right)}}\\\\0 & 0 & - \\frac{2 M}{r^{7} \\sin^{2}{\\left(\\theta \\right)}} & 0\\end{matrix}\\right]\\\\\\left[\\begin{matrix}0 & 0 & 0 & \\frac{M}{r^{4} \\left(2 M - r\\right) \\sin^{2}{\\left(\\theta \\right)}}\\\\0 & 0 & 0 & 0\\\\0 & 0 & 0 & 0\\\\\\frac{M}{r^{4} \\left(- 2 M + r\\right) \\sin^{2}{\\left(\\theta \\right)}} & 0 & 0 & 0\\end{matrix}\\right] & \\left[\\begin{matrix}0 & 0 & 0 & 0\\\\0 & 0 & 0 & \\frac{M \\left(- 2 M + r\\right)}{r^{6} \\sin^{2}{\\left(\\theta \\right)}}\\\\0 & 0 & 0 & 0\\\\0 & \\frac{M \\left(2 M - r\\right)}{r^{6} \\sin^{2}{\\left(\\theta \\right)}} & 0 & 0\\end{matrix}\\right] & \\left[\\begin{matrix}0 & 0 & 0 & 0\\\\0 & 0 & 0 & 0\\\\0 & 0 & 0 & - \\frac{2 M}{r^{7} \\sin^{2}{\\left(\\theta \\right)}}\\\\0 & 0 & \\frac{2 M}{r^{7} \\sin^{2}{\\left(\\theta \\right)}} & 0\\end{matrix}\\right] & \\left[\\begin{matrix}0 & 0 & 0 & 0\\\\0 & 0 & 0 & 0\\\\0 & 0 & 0 & 0\\\\0 & 0 & 0 & 0\\end{matrix}\\right]\\end{matrix}\\right]$"
      ],
      "text/plain": [
       "[[[[0, 0, 0, 0], [0, 0, 0, 0], [0, 0, 0, 0], [0, 0, 0, 0]], [[0, -2*M/r**3, 0, 0], [2*M/r**3, 0, 0, 0], [0, 0, 0, 0], [0, 0, 0, 0]], [[0, 0, M/(r**4*(-2*M + r)), 0], [0, 0, 0, 0], [M/(r**4*(2*M - r)), 0, 0, 0], [0, 0, 0, 0]], [[0, 0, 0, M/(r**4*(-2*M + r)*sin(theta)**2)], [0, 0, 0, 0], [0, 0, 0, 0], [M/(r**4*(2*M - r)*sin(theta)**2), 0, 0, 0]]], [[[0, 2*M/r**3, 0, 0], [-2*M/r**3, 0, 0, 0], [0, 0, 0, 0], [0, 0, 0, 0]], [[0, 0, 0, 0], [0, 0, 0, 0], [0, 0, 0, 0], [0, 0, 0, 0]], [[0, 0, 0, 0], [0, 0, M*(2*M - r)/r**6, 0], [0, M*(-2*M + r)/r**6, 0, 0], [0, 0, 0, 0]], [[0, 0, 0, 0], [0, 0, 0, M*(2*M - r)/(r**6*sin(theta)**2)], [0, 0, 0, 0], [0, M*(-2*M + r)/(r**6*sin(theta)**2), 0, 0]]], [[[0, 0, M/(r**4*(2*M - r)), 0], [0, 0, 0, 0], [M/(r**4*(-2*M + r)), 0, 0, 0], [0, 0, 0, 0]], [[0, 0, 0, 0], [0, 0, M*(-2*M + r)/r**6, 0], [0, M*(2*M - r)/r**6, 0, 0], [0, 0, 0, 0]], [[0, 0, 0, 0], [0, 0, 0, 0], [0, 0, 0, 0], [0, 0, 0, 0]], [[0, 0, 0, 0], [0, 0, 0, 0], [0, 0, 0, 2*M/(r**7*sin(theta)**2)], [0, 0, -2*M/(r**7*sin(theta)**2), 0]]], [[[0, 0, 0, M/(r**4*(2*M - r)*sin(theta)**2)], [0, 0, 0, 0], [0, 0, 0, 0], [M/(r**4*(-2*M + r)*sin(theta)**2), 0, 0, 0]], [[0, 0, 0, 0], [0, 0, 0, M*(-2*M + r)/(r**6*sin(theta)**2)], [0, 0, 0, 0], [0, M*(2*M - r)/(r**6*sin(theta)**2), 0, 0]], [[0, 0, 0, 0], [0, 0, 0, 0], [0, 0, 0, -2*M/(r**7*sin(theta)**2)], [0, 0, 2*M/(r**7*sin(theta)**2), 0]], [[0, 0, 0, 0], [0, 0, 0, 0], [0, 0, 0, 0], [0, 0, 0, 0]]]]"
      ]
     },
     "metadata": {},
     "output_type": "display_data"
    },
    {
     "data": {
      "text/latex": [
       "$\\displaystyle \\left[\\begin{matrix}\\left[\\begin{matrix}0 & 0 & 0 & 0\\\\0 & 0 & 0 & 0\\\\0 & 0 & 0 & 0\\\\0 & 0 & 0 & 0\\end{matrix}\\right] & \\left[\\begin{matrix}0 & - \\frac{2 M}{r^{3}} & 0 & 0\\\\\\frac{2 M}{r^{3}} & 0 & 0 & 0\\\\0 & 0 & 0 & 0\\\\0 & 0 & 0 & 0\\end{matrix}\\right] & \\left[\\begin{matrix}0 & 0 & \\frac{M \\left(- 2 M + r\\right)}{r^{2}} & 0\\\\0 & 0 & 0 & 0\\\\\\frac{M \\left(2 M - r\\right)}{r^{2}} & 0 & 0 & 0\\\\0 & 0 & 0 & 0\\end{matrix}\\right] & \\left[\\begin{matrix}0 & 0 & 0 & \\frac{M \\left(- 2 M + r\\right) \\sin^{2}{\\left(\\theta \\right)}}{r^{2}}\\\\0 & 0 & 0 & 0\\\\0 & 0 & 0 & 0\\\\\\frac{M \\left(2 M - r\\right) \\sin^{2}{\\left(\\theta \\right)}}{r^{2}} & 0 & 0 & 0\\end{matrix}\\right]\\\\\\left[\\begin{matrix}0 & \\frac{2 M}{r^{3}} & 0 & 0\\\\- \\frac{2 M}{r^{3}} & 0 & 0 & 0\\\\0 & 0 & 0 & 0\\\\0 & 0 & 0 & 0\\end{matrix}\\right] & \\left[\\begin{matrix}0 & 0 & 0 & 0\\\\0 & 0 & 0 & 0\\\\0 & 0 & 0 & 0\\\\0 & 0 & 0 & 0\\end{matrix}\\right] & \\left[\\begin{matrix}0 & 0 & 0 & 0\\\\0 & 0 & \\frac{M}{2 M - r} & 0\\\\0 & \\frac{M}{- 2 M + r} & 0 & 0\\\\0 & 0 & 0 & 0\\end{matrix}\\right] & \\left[\\begin{matrix}0 & 0 & 0 & 0\\\\0 & 0 & 0 & \\frac{M \\sin^{2}{\\left(\\theta \\right)}}{2 M - r}\\\\0 & 0 & 0 & 0\\\\0 & \\frac{M \\sin^{2}{\\left(\\theta \\right)}}{- 2 M + r} & 0 & 0\\end{matrix}\\right]\\\\\\left[\\begin{matrix}0 & 0 & \\frac{M \\left(2 M - r\\right)}{r^{2}} & 0\\\\0 & 0 & 0 & 0\\\\\\frac{M \\left(- 2 M + r\\right)}{r^{2}} & 0 & 0 & 0\\\\0 & 0 & 0 & 0\\end{matrix}\\right] & \\left[\\begin{matrix}0 & 0 & 0 & 0\\\\0 & 0 & \\frac{M}{- 2 M + r} & 0\\\\0 & \\frac{M}{2 M - r} & 0 & 0\\\\0 & 0 & 0 & 0\\end{matrix}\\right] & \\left[\\begin{matrix}0 & 0 & 0 & 0\\\\0 & 0 & 0 & 0\\\\0 & 0 & 0 & 0\\\\0 & 0 & 0 & 0\\end{matrix}\\right] & \\left[\\begin{matrix}0 & 0 & 0 & 0\\\\0 & 0 & 0 & 0\\\\0 & 0 & 0 & 2 M r \\sin^{2}{\\left(\\theta \\right)}\\\\0 & 0 & - 2 M r \\sin^{2}{\\left(\\theta \\right)} & 0\\end{matrix}\\right]\\\\\\left[\\begin{matrix}0 & 0 & 0 & \\frac{M \\left(2 M - r\\right) \\sin^{2}{\\left(\\theta \\right)}}{r^{2}}\\\\0 & 0 & 0 & 0\\\\0 & 0 & 0 & 0\\\\\\frac{M \\left(- 2 M + r\\right) \\sin^{2}{\\left(\\theta \\right)}}{r^{2}} & 0 & 0 & 0\\end{matrix}\\right] & \\left[\\begin{matrix}0 & 0 & 0 & 0\\\\0 & 0 & 0 & \\frac{M \\sin^{2}{\\left(\\theta \\right)}}{- 2 M + r}\\\\0 & 0 & 0 & 0\\\\0 & \\frac{M \\sin^{2}{\\left(\\theta \\right)}}{2 M - r} & 0 & 0\\end{matrix}\\right] & \\left[\\begin{matrix}0 & 0 & 0 & 0\\\\0 & 0 & 0 & 0\\\\0 & 0 & 0 & - 2 M r \\sin^{2}{\\left(\\theta \\right)}\\\\0 & 0 & 2 M r \\sin^{2}{\\left(\\theta \\right)} & 0\\end{matrix}\\right] & \\left[\\begin{matrix}0 & 0 & 0 & 0\\\\0 & 0 & 0 & 0\\\\0 & 0 & 0 & 0\\\\0 & 0 & 0 & 0\\end{matrix}\\right]\\end{matrix}\\right]$"
      ],
      "text/plain": [
       "[[[[0, 0, 0, 0], [0, 0, 0, 0], [0, 0, 0, 0], [0, 0, 0, 0]], [[0, -2*M/r**3, 0, 0], [2*M/r**3, 0, 0, 0], [0, 0, 0, 0], [0, 0, 0, 0]], [[0, 0, M*(-2*M + r)/r**2, 0], [0, 0, 0, 0], [M*(2*M - r)/r**2, 0, 0, 0], [0, 0, 0, 0]], [[0, 0, 0, M*(-2*M + r)*sin(theta)**2/r**2], [0, 0, 0, 0], [0, 0, 0, 0], [M*(2*M - r)*sin(theta)**2/r**2, 0, 0, 0]]], [[[0, 2*M/r**3, 0, 0], [-2*M/r**3, 0, 0, 0], [0, 0, 0, 0], [0, 0, 0, 0]], [[0, 0, 0, 0], [0, 0, 0, 0], [0, 0, 0, 0], [0, 0, 0, 0]], [[0, 0, 0, 0], [0, 0, M/(2*M - r), 0], [0, M/(-2*M + r), 0, 0], [0, 0, 0, 0]], [[0, 0, 0, 0], [0, 0, 0, M*sin(theta)**2/(2*M - r)], [0, 0, 0, 0], [0, M*sin(theta)**2/(-2*M + r), 0, 0]]], [[[0, 0, M*(2*M - r)/r**2, 0], [0, 0, 0, 0], [M*(-2*M + r)/r**2, 0, 0, 0], [0, 0, 0, 0]], [[0, 0, 0, 0], [0, 0, M/(-2*M + r), 0], [0, M/(2*M - r), 0, 0], [0, 0, 0, 0]], [[0, 0, 0, 0], [0, 0, 0, 0], [0, 0, 0, 0], [0, 0, 0, 0]], [[0, 0, 0, 0], [0, 0, 0, 0], [0, 0, 0, 2*M*r*sin(theta)**2], [0, 0, -2*M*r*sin(theta)**2, 0]]], [[[0, 0, 0, M*(2*M - r)*sin(theta)**2/r**2], [0, 0, 0, 0], [0, 0, 0, 0], [M*(-2*M + r)*sin(theta)**2/r**2, 0, 0, 0]], [[0, 0, 0, 0], [0, 0, 0, M*sin(theta)**2/(-2*M + r)], [0, 0, 0, 0], [0, M*sin(theta)**2/(2*M - r), 0, 0]], [[0, 0, 0, 0], [0, 0, 0, 0], [0, 0, 0, -2*M*r*sin(theta)**2], [0, 0, 2*M*r*sin(theta)**2, 0]], [[0, 0, 0, 0], [0, 0, 0, 0], [0, 0, 0, 0], [0, 0, 0, 0]]]]"
      ]
     },
     "metadata": {},
     "output_type": "display_data"
    }
   ],
   "source": [
    "rt_up = rt.change_config(\"uuuu\")\n",
    "rt_low = rt.change_config(\"llll\")\n",
    "display(rt_up.tensor())\n",
    "display(rt_low.tensor())"
   ]
  },
  {
   "cell_type": "code",
   "execution_count": null,
   "metadata": {},
   "outputs": [],
   "source": []
  }
 ],
 "metadata": {
  "kernelspec": {
   "display_name": "Python 3 (ipykernel)",
   "language": "python",
   "name": "python3"
  },
  "language_info": {
   "codemirror_mode": {
    "name": "ipython",
    "version": 3
   },
   "file_extension": ".py",
   "mimetype": "text/x-python",
   "name": "python",
   "nbconvert_exporter": "python",
   "pygments_lexer": "ipython3",
   "version": "3.10.4"
  }
 },
 "nbformat": 4,
 "nbformat_minor": 2
}
