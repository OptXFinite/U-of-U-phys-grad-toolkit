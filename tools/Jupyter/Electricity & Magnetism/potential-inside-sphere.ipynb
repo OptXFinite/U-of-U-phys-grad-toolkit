{
 "cells": [
  {
   "cell_type": "markdown",
   "metadata": {},
   "source": [
    "This program determines the potential of a spherical cavity with radius a\n",
    "which has a potential at radius a defined separately for four equally spaced regions\n",
    "\n",
    "The primary assertion here is that our potential may be represented as "
   ]
  },
  {
   "cell_type": "code",
   "execution_count": null,
   "metadata": {},
   "outputs": [
    {
     "data": {
      "text/latex": [
       "$\\displaystyle V_{lm}(r, \\theta, \\phi) = \\sum_{l=0}^{\\infty}\\sum_{m=-l}^{+l}\\Big(A_{lm}r^l+\\frac{B_{lm}}{r^{l+1}}\\Big)Y_{lm}(\\theta, \\phi)$"
      ],
      "text/plain": [
       "<IPython.core.display.Math object>"
      ]
     },
     "metadata": {},
     "output_type": "display_data"
    }
   ],
   "source": [
    "from IPython.display import display, Math, Latex\n",
    "display(Math(r'V_{lm}(r, \\theta, \\phi) = \\sum_{l=0}^{\\infty}\\sum_{m=-l}^{+l}\\Big(A_{lm}r^l+\\frac{B_{lm}}{r^{l+1}}\\Big)Y_{lm}(\\theta, \\phi)'))"
   ]
  },
  {
   "cell_type": "markdown",
   "metadata": {},
   "source": [
    "since we are looking on the inside (r < a), B_lm must be zero, since 1/r^l diverges at r=0, so\n"
   ]
  },
  {
   "cell_type": "code",
   "execution_count": null,
   "metadata": {},
   "outputs": [
    {
     "data": {
      "text/latex": [
       "$\\displaystyle V_{lm}(r, \\theta, \\phi) = \\sum_{l=0}^{\\infty}\\sum_{m=-l}^{+l}A_{lm}r^lY_{lm}(\\theta, \\phi)$"
      ],
      "text/plain": [
       "<IPython.core.display.Math object>"
      ]
     },
     "metadata": {},
     "output_type": "display_data"
    }
   ],
   "source": [
    "display(Math(r'V_{lm}(r, \\theta, \\phi) = \\sum_{l=0}^{\\infty}\\sum_{m=-l}^{+l}A_{lm}r^lY_{lm}(\\theta, \\phi)'))"
   ]
  },
  {
   "cell_type": "markdown",
   "metadata": {},
   "source": [
    "From here we find the coefficients with the boundary conditions specified by the potential on the surface (at r = a)"
   ]
  },
  {
   "cell_type": "code",
   "execution_count": null,
   "metadata": {},
   "outputs": [
    {
     "data": {
      "text/latex": [
       "$\\displaystyle A_{lm} = r^{-l}\\int_{0}^{2\\pi}\\int_{0}^{\\pi}V(r, \\theta, \\phi)Y_{lm}^{*}(\\theta, \\phi)sin(\\theta)d\\theta d\\phi$"
      ],
      "text/plain": [
       "<IPython.core.display.Math object>"
      ]
     },
     "metadata": {},
     "output_type": "display_data"
    }
   ],
   "source": [
    "display(Math(r'A_{lm} = r^{-l}\\int_{0}^{2\\pi}\\int_{0}^{\\pi}V(r, \\theta, \\phi)Y_{lm}^{*}(\\theta, \\phi)sin(\\theta)d\\theta d\\phi'))"
   ]
  },
  {
   "cell_type": "code",
   "execution_count": 41,
   "metadata": {},
   "outputs": [],
   "source": [
    "from sympy import *\n",
    "\n",
    "th, ph = symbols(\"theta phi\")\n",
    "r, a, b, e, q = symbols(\"r a b epsilon_0 q\", positive=True)\n",
    "n, l, m = symbols(\"n l m\", integer=True)\n",
    "V0 = symbols(\"V0\", real=True)"
   ]
  },
  {
   "cell_type": "code",
   "execution_count": 42,
   "metadata": {},
   "outputs": [],
   "source": [
    "# Define the boundary conditions\n",
    "limits_i = {\n",
    "    \"V\": V0,\n",
    "    \"th_1\": 0,\n",
    "    \"th_2\": pi/2,\n",
    "    \"ph_1\": -pi/2,\n",
    "    \"ph_2\": pi/2\n",
    "}\n",
    "limits_ii = {\n",
    "    \"V\": V0,\n",
    "    \"th_1\": pi/2,\n",
    "    \"th_2\": pi,\n",
    "    \"ph_1\": -pi,\n",
    "    \"ph_2\": 0\n",
    "}\n",
    "limits_iii = {\n",
    "    \"V\": -V0,\n",
    "    \"th_1\": 0,\n",
    "    \"th_2\": pi/2,\n",
    "    \"ph_1\": pi/2,\n",
    "    \"ph_2\": 3*pi/2\n",
    "}\n",
    "limits_iv = {\n",
    "    \"V\": -V0,\n",
    "    \"th_1\": pi/2,\n",
    "    \"th_2\": pi,\n",
    "    \"ph_1\": 0,\n",
    "    \"ph_2\": pi\n",
    "}"
   ]
  },
  {
   "cell_type": "code",
   "execution_count": 43,
   "metadata": {},
   "outputs": [],
   "source": [
    "def A(l, m, limits):\n",
    "    integrand = a**(-l)*limits[\"V\"]*sin(th)*Ynm_c(l, m, th, ph).expand(func=True)\n",
    "    A_lm = integrate(integrate(integrand, (ph, limits[\"ph_1\"], limits[\"ph_2\"])), (th, limits[\"th_1\"], limits[\"th_2\"]))\n",
    "    return A_lm\n",
    "\n",
    "def Ynm_c_neg_m(l, m, th, ph):\n",
    "    return simplify(Rational((-1)**(m))*Ynm(l, -m, th, ph))\n",
    "\n",
    "def allSectionsA(l, m):\n",
    "    A_i = A(l, m, limits_i)\n",
    "    A_ii = A(l, m, limits_ii)\n",
    "    A_iii = A(l, m, limits_iii)\n",
    "    A_iv = A(l, m, limits_iv)\n",
    "    A_tot = simplify(A_i + A_ii + A_iii + A_iv)\n",
    "    return A_tot\n",
    "\n",
    "def V_lm(l, m):\n",
    "    return r**l*allSectionsA(l, m)*Ynm(l, m, th, ph).expand(func=True)"
   ]
  },
  {
   "cell_type": "code",
   "execution_count": 44,
   "metadata": {},
   "outputs": [
    {
     "name": "stdout",
     "output_type": "stream",
     "text": [
      "V_00\n"
     ]
    },
    {
     "data": {
      "text/latex": [
       "$\\displaystyle 0$"
      ],
      "text/plain": [
       "0"
      ]
     },
     "metadata": {},
     "output_type": "display_data"
    },
    {
     "name": "stdout",
     "output_type": "stream",
     "text": [
      "V_10\n"
     ]
    },
    {
     "data": {
      "text/latex": [
       "$\\displaystyle 0$"
      ],
      "text/plain": [
       "0"
      ]
     },
     "metadata": {},
     "output_type": "display_data"
    },
    {
     "name": "stdout",
     "output_type": "stream",
     "text": [
      "V1_neg1\n"
     ]
    },
    {
     "data": {
      "text/latex": [
       "$\\displaystyle \\frac{3 V_{0} r \\left(1 - i\\right) e^{- i \\phi} \\sin{\\left(\\theta \\right)}}{8 a}$"
      ],
      "text/plain": [
       "3*V0*r*(1 - I)*exp(-I*phi)*sin(theta)/(8*a)"
      ]
     },
     "metadata": {},
     "output_type": "display_data"
    },
    {
     "name": "stdout",
     "output_type": "stream",
     "text": [
      "V_11\n"
     ]
    },
    {
     "data": {
      "text/latex": [
       "$\\displaystyle \\frac{3 V_{0} r \\left(1 + i\\right) e^{i \\phi} \\sin{\\left(\\theta \\right)}}{8 a}$"
      ],
      "text/plain": [
       "3*V0*r*(1 + I)*exp(I*phi)*sin(theta)/(8*a)"
      ]
     },
     "metadata": {},
     "output_type": "display_data"
    },
    {
     "name": "stdout",
     "output_type": "stream",
     "text": [
      "V_1-1 + V_11:\n"
     ]
    },
    {
     "data": {
      "text/latex": [
       "$\\displaystyle \\frac{3 V_{0} \\left(r \\left(1 + i\\right) + 1 - i\\right) e^{i \\phi} \\sin{\\left(\\theta \\right)}}{8 a}$"
      ],
      "text/plain": [
       "3*V0*(r*(1 + I) + 1 - I)*exp(I*phi)*sin(theta)/(8*a)"
      ]
     },
     "metadata": {},
     "output_type": "display_data"
    }
   ],
   "source": [
    "V_00 = V_lm(0, 0)\n",
    "print(\"V_00\")\n",
    "display(V_00)\n",
    "\n",
    "V_10 = V_lm(1, 0)\n",
    "print(\"V_10\")\n",
    "display(V_10)\n",
    "\n",
    "V1_neg1 = V_lm(1, -1)\n",
    "print(\"V1_neg1\")\n",
    "display(V1_neg1)\n",
    "\n",
    "V_11 = V_lm(1, 1)\n",
    "print(\"V_11\")\n",
    "display(V_11)\n",
    "\n",
    "V_11_comb = (V_1neg1+V_11).rewrite(cos).simplify().trigsimp()\n",
    "print(\"V_1-1 + V_11:\")\n",
    "display(V_11_comb)"
   ]
  },
  {
   "cell_type": "code",
   "execution_count": 45,
   "metadata": {},
   "outputs": [
    {
     "name": "stdout",
     "output_type": "stream",
     "text": [
      "V_2neg2\n"
     ]
    },
    {
     "data": {
      "text/latex": [
       "$\\displaystyle 0$"
      ],
      "text/plain": [
       "0"
      ]
     },
     "metadata": {},
     "output_type": "display_data"
    },
    {
     "name": "stdout",
     "output_type": "stream",
     "text": [
      "V_2neg1\n"
     ]
    },
    {
     "data": {
      "text/latex": [
       "$\\displaystyle \\frac{5 V_{0} r^{2} \\left(1 + i\\right) e^{- i \\phi} \\sin{\\left(\\theta \\right)} \\cos{\\left(\\theta \\right)}}{2 \\pi a^{2}}$"
      ],
      "text/plain": [
       "5*V0*r**2*(1 + I)*exp(-I*phi)*sin(theta)*cos(theta)/(2*pi*a**2)"
      ]
     },
     "metadata": {},
     "output_type": "display_data"
    },
    {
     "name": "stdout",
     "output_type": "stream",
     "text": [
      "V_20\n"
     ]
    },
    {
     "data": {
      "text/latex": [
       "$\\displaystyle 0$"
      ],
      "text/plain": [
       "0"
      ]
     },
     "metadata": {},
     "output_type": "display_data"
    },
    {
     "name": "stdout",
     "output_type": "stream",
     "text": [
      "V_21\n"
     ]
    },
    {
     "data": {
      "text/latex": [
       "$\\displaystyle - \\frac{5 V_{0} r^{2} \\left(-1 + i\\right) e^{i \\phi} \\sin{\\left(\\theta \\right)} \\cos{\\left(\\theta \\right)}}{2 \\pi a^{2}}$"
      ],
      "text/plain": [
       "-5*V0*r**2*(-1 + I)*exp(I*phi)*sin(theta)*cos(theta)/(2*pi*a**2)"
      ]
     },
     "metadata": {},
     "output_type": "display_data"
    },
    {
     "name": "stdout",
     "output_type": "stream",
     "text": [
      "V_22\n"
     ]
    },
    {
     "data": {
      "text/latex": [
       "$\\displaystyle 0$"
      ],
      "text/plain": [
       "0"
      ]
     },
     "metadata": {},
     "output_type": "display_data"
    },
    {
     "name": "stdout",
     "output_type": "stream",
     "text": [
      "V_2-1 + V_21:\n"
     ]
    },
    {
     "data": {
      "text/latex": [
       "$\\displaystyle \\frac{5 \\sqrt{2} V_{0} r^{2} \\left(\\cos{\\left(\\phi - 2 \\theta + \\frac{\\pi}{4} \\right)} - \\cos{\\left(\\phi + 2 \\theta + \\frac{\\pi}{4} \\right)}\\right)}{4 \\pi a^{2}}$"
      ],
      "text/plain": [
       "5*sqrt(2)*V0*r**2*(cos(phi - 2*theta + pi/4) - cos(phi + 2*theta + pi/4))/(4*pi*a**2)"
      ]
     },
     "metadata": {},
     "output_type": "display_data"
    }
   ],
   "source": [
    "V_2neg2 = V_lm(2, -2)\n",
    "print(\"V_2neg2\")\n",
    "display(V_2neg2)\n",
    "\n",
    "V_2neg1 = V_lm(2, -1)\n",
    "print(\"V_2neg1\")\n",
    "display(V_2neg1)\n",
    "\n",
    "V_20 = V_lm(2, 0)\n",
    "print(\"V_20\")\n",
    "display(V_20)\n",
    "\n",
    "V_21 = V_lm(2, 1)\n",
    "print(\"V_21\")\n",
    "display(V_21)\n",
    "\n",
    "V_22 = V_lm(2, 2)\n",
    "print(\"V_22\")\n",
    "display(V_22)\n",
    "\n",
    "V_21_comb = (V_2neg1+V_21).rewrite(cos).simplify().trigsimp()\n",
    "print(\"V_2-1 + V_21:\")\n",
    "display(simplify(V_21_comb.rewrite(sin(ph))))"
   ]
  },
  {
   "cell_type": "code",
   "execution_count": 46,
   "metadata": {},
   "outputs": [
    {
     "name": "stdout",
     "output_type": "stream",
     "text": [
      "V_3neg3\n"
     ]
    },
    {
     "data": {
      "text/latex": [
       "$\\displaystyle - \\frac{35 V_{0} r^{3} \\left(1 + i\\right) e^{- 3 i \\phi} \\sin^{3}{\\left(\\theta \\right)}}{256 a^{3}}$"
      ],
      "text/plain": [
       "-35*V0*r**3*(1 + I)*exp(-3*I*phi)*sin(theta)**3/(256*a**3)"
      ]
     },
     "metadata": {},
     "output_type": "display_data"
    },
    {
     "name": "stdout",
     "output_type": "stream",
     "text": [
      "V_3neg2\n"
     ]
    },
    {
     "data": {
      "text/latex": [
       "$\\displaystyle 0$"
      ],
      "text/plain": [
       "0"
      ]
     },
     "metadata": {},
     "output_type": "display_data"
    },
    {
     "name": "stdout",
     "output_type": "stream",
     "text": [
      "V_3neg1\n"
     ]
    },
    {
     "data": {
      "text/latex": [
       "$\\displaystyle \\frac{\\sqrt{21} \\sqrt{\\pi} V_{0} r^{3} \\left(1 - i\\right) \\left(\\frac{5 \\sqrt{21} e^{- i \\phi} \\sin{\\left(\\theta \\right)} \\cos^{2}{\\left(\\theta \\right)}}{8 \\sqrt{\\pi}} - \\frac{\\sqrt{21} e^{- i \\phi} \\sin{\\left(\\theta \\right)}}{8 \\sqrt{\\pi}}\\right)}{32 a^{3}}$"
      ],
      "text/plain": [
       "sqrt(21)*sqrt(pi)*V0*r**3*(1 - I)*(5*sqrt(21)*exp(-I*phi)*sin(theta)*cos(theta)**2/(8*sqrt(pi)) - sqrt(21)*exp(-I*phi)*sin(theta)/(8*sqrt(pi)))/(32*a**3)"
      ]
     },
     "metadata": {},
     "output_type": "display_data"
    },
    {
     "name": "stdout",
     "output_type": "stream",
     "text": [
      "V_30\n"
     ]
    },
    {
     "data": {
      "text/latex": [
       "$\\displaystyle 0$"
      ],
      "text/plain": [
       "0"
      ]
     },
     "metadata": {},
     "output_type": "display_data"
    },
    {
     "name": "stdout",
     "output_type": "stream",
     "text": [
      "V_31\n"
     ]
    },
    {
     "data": {
      "text/latex": [
       "$\\displaystyle - \\frac{\\sqrt{21} \\sqrt{\\pi} V_{0} r^{3} \\left(1 + i\\right) \\left(- \\frac{5 \\sqrt{21} e^{i \\phi} \\sin{\\left(\\theta \\right)} \\cos^{2}{\\left(\\theta \\right)}}{8 \\sqrt{\\pi}} + \\frac{\\sqrt{21} e^{i \\phi} \\sin{\\left(\\theta \\right)}}{8 \\sqrt{\\pi}}\\right)}{32 a^{3}}$"
      ],
      "text/plain": [
       "-sqrt(21)*sqrt(pi)*V0*r**3*(1 + I)*(-5*sqrt(21)*exp(I*phi)*sin(theta)*cos(theta)**2/(8*sqrt(pi)) + sqrt(21)*exp(I*phi)*sin(theta)/(8*sqrt(pi)))/(32*a**3)"
      ]
     },
     "metadata": {},
     "output_type": "display_data"
    },
    {
     "name": "stdout",
     "output_type": "stream",
     "text": [
      "V_32\n"
     ]
    },
    {
     "data": {
      "text/latex": [
       "$\\displaystyle 0$"
      ],
      "text/plain": [
       "0"
      ]
     },
     "metadata": {},
     "output_type": "display_data"
    },
    {
     "name": "stdout",
     "output_type": "stream",
     "text": [
      "V_33\n"
     ]
    },
    {
     "data": {
      "text/latex": [
       "$\\displaystyle - \\frac{35 V_{0} r^{3} \\left(1 - i\\right) e^{3 i \\phi} \\sin^{3}{\\left(\\theta \\right)}}{256 a^{3}}$"
      ],
      "text/plain": [
       "-35*V0*r**3*(1 - I)*exp(3*I*phi)*sin(theta)**3/(256*a**3)"
      ]
     },
     "metadata": {},
     "output_type": "display_data"
    },
    {
     "name": "stdout",
     "output_type": "stream",
     "text": [
      "V_3-1 + V_31:\n"
     ]
    },
    {
     "data": {
      "text/latex": [
       "$\\displaystyle \\frac{21 \\sqrt{2} V_{0} r^{3} \\left(5 \\cos^{2}{\\left(\\theta \\right)} - 1\\right) \\sin{\\left(\\theta \\right)} \\cos{\\left(\\phi + \\frac{\\pi}{4} \\right)}}{128 a^{3}}$"
      ],
      "text/plain": [
       "21*sqrt(2)*V0*r**3*(5*cos(theta)**2 - 1)*sin(theta)*cos(phi + pi/4)/(128*a**3)"
      ]
     },
     "metadata": {},
     "output_type": "display_data"
    },
    {
     "name": "stdout",
     "output_type": "stream",
     "text": [
      "V_3-3 + V_33:\n"
     ]
    },
    {
     "data": {
      "text/latex": [
       "$\\displaystyle - \\frac{35 \\sqrt{2} V_{0} r^{3} \\sin^{3}{\\left(\\theta \\right)} \\sin{\\left(3 \\phi + \\frac{\\pi}{4} \\right)}}{128 a^{3}}$"
      ],
      "text/plain": [
       "-35*sqrt(2)*V0*r**3*sin(theta)**3*sin(3*phi + pi/4)/(128*a**3)"
      ]
     },
     "metadata": {},
     "output_type": "display_data"
    }
   ],
   "source": [
    "V_3neg3 = V_lm(3, -3)\n",
    "print(\"V_3neg3\")\n",
    "display(V_3neg3)\n",
    "\n",
    "V_3neg2 = V_lm(3, -2)\n",
    "print(\"V_3neg2\")\n",
    "display(V_3neg2)\n",
    "\n",
    "V_3neg1 = V_lm(3, -1)\n",
    "print(\"V_3neg1\")\n",
    "display(V_3neg1)\n",
    "\n",
    "V_30 = V_lm(3, 0)\n",
    "print(\"V_30\")\n",
    "display(V_30)\n",
    "\n",
    "V_31 = V_lm(3, 1)\n",
    "print(\"V_31\")\n",
    "display(V_31)\n",
    "\n",
    "V_32 = V_lm(3, 2)\n",
    "print(\"V_32\")\n",
    "display(V_32)\n",
    "\n",
    "V_33 = V_lm(3, 3)\n",
    "print(\"V_33\")\n",
    "display(V_33)\n",
    "\n",
    "V_31_comb = (V_3neg1+V_31).rewrite(cos).simplify().trigsimp()\n",
    "print(\"V_3-1 + V_31:\")\n",
    "display(simplify(V_31_comb))\n",
    "\n",
    "V_33_comb = (V_3neg3+V_33).rewrite(cos).simplify().trigsimp()\n",
    "print(\"V_3-3 + V_33:\")\n",
    "display(simplify(V_33_comb))"
   ]
  },
  {
   "cell_type": "code",
   "execution_count": 47,
   "metadata": {},
   "outputs": [
    {
     "name": "stdout",
     "output_type": "stream",
     "text": [
      "V_3-1 + V_31:\n"
     ]
    },
    {
     "data": {
      "text/latex": [
       "$\\displaystyle \\frac{21 \\sqrt{2} V_{0} r^{3} \\left(5 \\cos^{2}{\\left(\\theta \\right)} - 1\\right) \\sin{\\left(\\theta \\right)} \\cos{\\left(\\phi + \\frac{\\pi}{4} \\right)}}{128 a^{3}}$"
      ],
      "text/plain": [
       "21*sqrt(2)*V0*r**3*(5*cos(theta)**2 - 1)*sin(theta)*cos(phi + pi/4)/(128*a**3)"
      ]
     },
     "metadata": {},
     "output_type": "display_data"
    },
    {
     "name": "stdout",
     "output_type": "stream",
     "text": [
      "V_3-3 + V_33:\n"
     ]
    },
    {
     "data": {
      "text/latex": [
       "$\\displaystyle - \\frac{35 \\sqrt{2} V_{0} r^{3} \\sin^{3}{\\left(\\theta \\right)} \\sin{\\left(3 \\phi + \\frac{\\pi}{4} \\right)}}{128 a^{3}}$"
      ],
      "text/plain": [
       "-35*sqrt(2)*V0*r**3*sin(theta)**3*sin(3*phi + pi/4)/(128*a**3)"
      ]
     },
     "metadata": {},
     "output_type": "display_data"
    }
   ],
   "source": [
    "V_31_comb = (V_3neg1+V_31).rewrite(cos).simplify().trigsimp()\n",
    "print(\"V_3-1 + V_31:\")\n",
    "display(simplify(V_31_comb))\n",
    "\n",
    "V_33_comb = (V_3neg3+V_33).rewrite(cos).simplify().trigsimp()\n",
    "print(\"V_3-3 + V_33:\")\n",
    "display(simplify(V_33_comb))"
   ]
  }
 ],
 "metadata": {
  "interpreter": {
   "hash": "916dbcbb3f70747c44a77c7bcd40155683ae19c65e1c03b4aa3499c5328201f1"
  },
  "kernelspec": {
   "display_name": "Python 3.8.10 64-bit",
   "name": "python3"
  },
  "language_info": {
   "codemirror_mode": {
    "name": "ipython",
    "version": 3
   },
   "file_extension": ".py",
   "mimetype": "text/x-python",
   "name": "python",
   "nbconvert_exporter": "python",
   "pygments_lexer": "ipython3",
   "version": "3.8.10"
  },
  "orig_nbformat": 4
 },
 "nbformat": 4,
 "nbformat_minor": 2
}
