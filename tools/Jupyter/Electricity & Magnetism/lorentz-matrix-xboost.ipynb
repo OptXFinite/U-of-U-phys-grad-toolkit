{
 "cells": [
  {
   "cell_type": "code",
   "execution_count": 1,
   "metadata": {},
   "outputs": [],
   "source": [
    "from sympy import *\n",
    "\n",
    "l00, l10, l20, l30 = symbols('Lambda_00 Lambda_10 Lambda_20 Lambda_30')\n",
    "l01, l11, l21, l31 = symbols('Lambda_01 Lambda_11 Lambda_21 Lambda_31')\n",
    "l02, l12, l22, l32 = symbols('Lambda_02 Lambda_12 Lambda_22 Lambda_32')\n",
    "l03, l13, l23, l33 = symbols('Lambda_03 Lambda_13 Lambda_23 Lambda_33')\n",
    "gamma, beta, v, c, t, x, y, z = symbols('gamma beta v c t x y z')\n",
    "v_p, t_p, x_p, y_p, z_p = symbols(\"v' t' x' y' z'\")"
   ]
  },
  {
   "cell_type": "markdown",
   "metadata": {},
   "source": []
  },
  {
   "cell_type": "code",
   "execution_count": 2,
   "metadata": {},
   "outputs": [
    {
     "data": {
      "text/latex": [
       "$\\displaystyle \\left[\\begin{matrix}\\Lambda_{00} & \\Lambda_{01} & \\Lambda_{02} & \\Lambda_{03}\\\\\\Lambda_{10} & \\Lambda_{11} & \\Lambda_{12} & \\Lambda_{13}\\\\\\Lambda_{20} & \\Lambda_{21} & \\Lambda_{22} & \\Lambda_{23}\\\\\\Lambda_{30} & \\Lambda_{31} & \\Lambda_{32} & \\Lambda_{33}\\end{matrix}\\right]$"
      ],
      "text/plain": [
       "Matrix([\n",
       "[Lambda_00, Lambda_01, Lambda_02, Lambda_03],\n",
       "[Lambda_10, Lambda_11, Lambda_12, Lambda_13],\n",
       "[Lambda_20, Lambda_21, Lambda_22, Lambda_23],\n",
       "[Lambda_30, Lambda_31, Lambda_32, Lambda_33]])"
      ]
     },
     "metadata": {},
     "output_type": "display_data"
    },
    {
     "data": {
      "text/latex": [
       "$\\displaystyle \\left[\\begin{matrix}c t\\\\x\\\\y\\\\z\\end{matrix}\\right]$"
      ],
      "text/plain": [
       "Matrix([\n",
       "[c*t],\n",
       "[  x],\n",
       "[  y],\n",
       "[  z]])"
      ]
     },
     "metadata": {},
     "output_type": "display_data"
    },
    {
     "data": {
      "text/latex": [
       "$\\displaystyle \\left[\\begin{matrix}c t'\\\\x'\\\\y'\\\\z'\\end{matrix}\\right]$"
      ],
      "text/plain": [
       "Matrix([\n",
       "[c*t'],\n",
       "[  x'],\n",
       "[  y'],\n",
       "[  z']])"
      ]
     },
     "metadata": {},
     "output_type": "display_data"
    }
   ],
   "source": [
    "LambdaM = Matrix([[l00, l01, l02, l03],[l10, l11, l12, l13],[l20, l21, l22, l23],[l30, l31, l32, l33]])\n",
    "\n",
    "vM = Matrix([[c*t],[x],[y],[z]])\n",
    "vM_p = Matrix([[c*t_p],[x_p],[y_p],[z_p]])\n",
    "display(LambdaM)\n",
    "display(vM)\n",
    "display(vM_p)"
   ]
  },
  {
   "cell_type": "code",
   "execution_count": 3,
   "metadata": {},
   "outputs": [
    {
     "data": {
      "text/latex": [
       "$\\displaystyle \\left[\\begin{matrix}\\gamma & \\Lambda_{01} & \\Lambda_{02} & \\Lambda_{03}\\\\- \\beta \\gamma & \\Lambda_{11} & \\Lambda_{12} & \\Lambda_{13}\\\\0 & \\Lambda_{21} & \\Lambda_{22} & \\Lambda_{23}\\\\0 & \\Lambda_{31} & \\Lambda_{32} & \\Lambda_{33}\\end{matrix}\\right]$"
      ],
      "text/plain": [
       "Matrix([\n",
       "[      gamma, Lambda_01, Lambda_02, Lambda_03],\n",
       "[-beta*gamma, Lambda_11, Lambda_12, Lambda_13],\n",
       "[          0, Lambda_21, Lambda_22, Lambda_23],\n",
       "[          0, Lambda_31, Lambda_32, Lambda_33]])"
      ]
     },
     "metadata": {},
     "output_type": "display_data"
    },
    {
     "data": {
      "text/latex": [
       "$\\displaystyle \\left[\\begin{matrix}c t'\\\\0\\\\0\\\\0\\end{matrix}\\right]$"
      ],
      "text/plain": [
       "Matrix([\n",
       "[c*t'],\n",
       "[   0],\n",
       "[   0],\n",
       "[   0]])"
      ]
     },
     "metadata": {},
     "output_type": "display_data"
    }
   ],
   "source": [
    "frame = {l00:gamma, l10: -gamma*beta, l20:0, l30:0}\n",
    "LambdaM = LambdaM.subs(frame)\n",
    "vM_p = vM_p.subs({x_p:0, y_p:0, z_p:0})\n",
    "display(LambdaM)\n",
    "display(vM_p)"
   ]
  },
  {
   "cell_type": "code",
   "execution_count": 4,
   "metadata": {},
   "outputs": [
    {
     "data": {
      "text/latex": [
       "$\\displaystyle \\left[\\begin{matrix}\\gamma & \\Lambda_{01} & \\Lambda_{02} & \\Lambda_{03}\\\\- \\beta \\gamma & \\gamma & \\Lambda_{12} & \\Lambda_{13}\\\\0 & 0 & \\Lambda_{22} & \\Lambda_{23}\\\\0 & 0 & \\Lambda_{32} & \\Lambda_{33}\\end{matrix}\\right]$"
      ],
      "text/plain": [
       "Matrix([\n",
       "[      gamma, Lambda_01, Lambda_02, Lambda_03],\n",
       "[-beta*gamma,     gamma, Lambda_12, Lambda_13],\n",
       "[          0,         0, Lambda_22, Lambda_23],\n",
       "[          0,         0, Lambda_32, Lambda_33]])"
      ]
     },
     "metadata": {},
     "output_type": "display_data"
    },
    {
     "name": "stdout",
     "output_type": "stream",
     "text": [
      "Matrix([[gamma, Lambda_01, Lambda_02, Lambda_03], [-beta*gamma, gamma, Lambda_12, Lambda_13], [0, 0, Lambda_22, Lambda_23], [0, 0, Lambda_32, Lambda_33]])\n"
     ]
    }
   ],
   "source": [
    "# from in-class maths\n",
    "lambda_subs = {l11:gamma, l21: 0, l31:0}\n",
    "LambdaM = LambdaM.subs(lambda_subs)\n",
    "display(LambdaM)\n",
    "print(LambdaM)"
   ]
  },
  {
   "cell_type": "code",
   "execution_count": 5,
   "metadata": {},
   "outputs": [
    {
     "data": {
      "text/latex": [
       "$\\displaystyle \\left[\\begin{matrix}\\gamma & - \\beta \\gamma & 0 & 0\\\\- \\beta \\gamma & \\gamma & 0 & 0\\\\0 & 0 & 1 & 0\\\\0 & 0 & 0 & 1\\end{matrix}\\right]$"
      ],
      "text/plain": [
       "Matrix([\n",
       "[      gamma, -beta*gamma, 0, 0],\n",
       "[-beta*gamma,       gamma, 0, 0],\n",
       "[          0,           0, 1, 0],\n",
       "[          0,           0, 0, 1]])"
      ]
     },
     "metadata": {},
     "output_type": "display_data"
    },
    {
     "name": "stdout",
     "output_type": "stream",
     "text": [
      "Matrix([[gamma, -beta*gamma, 0, 0], [-beta*gamma, gamma, 0, 0], [0, 0, 1, 0], [0, 0, 0, 1]])\n"
     ]
    }
   ],
   "source": [
    "lambda_subs = {l11:gamma, l21: 0, l31:0, l01: -beta*gamma, l02:0, l03:0, l12:0, l13:0, l22:1, l23:0, l32:0, l33:1}\n",
    "LambdaM = LambdaM.subs(lambda_subs)\n",
    "display(LambdaM)\n",
    "print(LambdaM)"
   ]
  },
  {
   "cell_type": "code",
   "execution_count": 6,
   "metadata": {},
   "outputs": [
    {
     "data": {
      "text/latex": [
       "$\\displaystyle \\left[\\begin{matrix}0 & 0 & - \\frac{\\lambda}{2 \\pi b c \\epsilon_{0}} & 0\\\\0 & 0 & - \\frac{\\lambda \\mu_{0} u}{2 \\pi b} & 0\\\\\\frac{\\lambda}{2 \\pi b c \\epsilon_{0}} & \\frac{\\lambda \\mu_{0} u}{2 \\pi b} & 0 & 0\\\\0 & 0 & 0 & 0\\end{matrix}\\right]$"
      ],
      "text/plain": [
       "Matrix([\n",
       "[                          0,                      0, -lambda/(2*pi*b*c*epsilon_0), 0],\n",
       "[                          0,                      0,      -lambda*mu_0*u/(2*pi*b), 0],\n",
       "[lambda/(2*pi*b*c*epsilon_0), lambda*mu_0*u/(2*pi*b),                            0, 0],\n",
       "[                          0,                      0,                            0, 0]])"
      ]
     },
     "metadata": {},
     "output_type": "display_data"
    },
    {
     "data": {
      "text/latex": [
       "$\\displaystyle \\left[\\begin{matrix}0 & 0 & \\frac{\\beta \\gamma \\lambda \\mu_{0} u}{2 \\pi b} - \\frac{\\gamma \\lambda}{2 \\pi b c \\epsilon_{0}} & 0\\\\0 & 0 & \\frac{\\beta \\gamma \\lambda}{2 \\pi b c \\epsilon_{0}} - \\frac{\\gamma \\lambda \\mu_{0} u}{2 \\pi b} & 0\\\\- \\frac{\\beta \\gamma \\lambda \\mu_{0} u}{2 \\pi b} + \\frac{\\gamma \\lambda}{2 \\pi b c \\epsilon_{0}} & - \\frac{\\beta \\gamma \\lambda}{2 \\pi b c \\epsilon_{0}} + \\frac{\\gamma \\lambda \\mu_{0} u}{2 \\pi b} & 0 & 0\\\\0 & 0 & 0 & 0\\end{matrix}\\right]$"
      ],
      "text/plain": [
       "Matrix([\n",
       "[                                                                     0,                                                                      0, beta*gamma*lambda*mu_0*u/(2*pi*b) - gamma*lambda/(2*pi*b*c*epsilon_0), 0],\n",
       "[                                                                     0,                                                                      0, beta*gamma*lambda/(2*pi*b*c*epsilon_0) - gamma*lambda*mu_0*u/(2*pi*b), 0],\n",
       "[-beta*gamma*lambda*mu_0*u/(2*pi*b) + gamma*lambda/(2*pi*b*c*epsilon_0), -beta*gamma*lambda/(2*pi*b*c*epsilon_0) + gamma*lambda*mu_0*u/(2*pi*b),                                                                     0, 0],\n",
       "[                                                                     0,                                                                      0,                                                                     0, 0]])"
      ]
     },
     "metadata": {},
     "output_type": "display_data"
    }
   ],
   "source": [
    "la, u0, e0, b, c, u, v = symbols(\"lambda, mu_0, epsilon_0 b c u v\")\n",
    "F = Matrix([[0,0,-la/(2*pi*e0*b*c),0],\n",
    "            [0,0,-u0*la*u/(2*pi*b), 0],\n",
    "            [la/(2*pi*e0*b*c), u0*la*u/(2*pi*b), 0, 0],\n",
    "            [0,0,0,0]])\n",
    "display(F)\n",
    "Fp = LambdaM*F*LambdaM.T\n",
    "display(Fp)"
   ]
  },
  {
   "cell_type": "code",
   "execution_count": null,
   "metadata": {},
   "outputs": [],
   "source": []
  },
  {
   "cell_type": "code",
   "execution_count": null,
   "metadata": {},
   "outputs": [],
   "source": []
  },
  {
   "cell_type": "code",
   "execution_count": null,
   "metadata": {},
   "outputs": [],
   "source": []
  }
 ],
 "metadata": {
  "interpreter": {
   "hash": "31f2aee4e71d21fbe5cf8b01ff0e069b9275f58929596ceb00d14d90e3e16cd6"
  },
  "kernelspec": {
   "display_name": "Python 3",
   "language": "python",
   "name": "python3"
  },
  "language_info": {
   "codemirror_mode": {
    "name": "ipython",
    "version": 3
   },
   "file_extension": ".py",
   "mimetype": "text/x-python",
   "name": "python",
   "nbconvert_exporter": "python",
   "pygments_lexer": "ipython3",
   "version": "3.8.10"
  }
 },
 "nbformat": 4,
 "nbformat_minor": 2
}
