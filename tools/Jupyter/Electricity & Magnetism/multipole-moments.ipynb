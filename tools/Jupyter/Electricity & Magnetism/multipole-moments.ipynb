{
 "cells": [
  {
   "cell_type": "code",
   "execution_count": 7,
   "metadata": {},
   "outputs": [],
   "source": [
    "from sympy import *\n",
    "r, rp, R = symbols(\"r rp R\", positive=True)\n",
    "x, xp, y, yp, z, zp, th, thp, ph, php, rho_0 = symbols(\"x x' y y' z z' theta theta' phi phi' rho_0\")\n"
   ]
  },
  {
   "cell_type": "markdown",
   "metadata": {},
   "source": [
    "The following function generates the multipole moment for a solid sphere\n"
   ]
  },
  {
   "cell_type": "code",
   "execution_count": 8,
   "metadata": {},
   "outputs": [],
   "source": [
    "def q_lm_sphere(l, m, rho, rp, thp, php):\n",
    "    y_lm = Ynm_c(l, m, thp, php).expand(func=True)\n",
    "    \n",
    "    # From Brau eq 3.258\n",
    "    integrand = rho*rp**l*y_lm\n",
    "    \n",
    "    # d^3r (or dV) for a spherical coordinate system\n",
    "    d3r = rp**2*sin(thp)\n",
    "    \n",
    "    q_lm = integrate(integrate(integrate(integrand*d3r, (php, 0, 2*pi)), (thp, 0, pi)), (rp, 0, R))\n",
    "    q_lm = simplify(q_lm)\n",
    "    return q_lm"
   ]
  },
  {
   "cell_type": "markdown",
   "metadata": {},
   "source": [
    "Example use: E&M homework 6 problem 2"
   ]
  },
  {
   "cell_type": "code",
   "execution_count": 9,
   "metadata": {},
   "outputs": [],
   "source": [
    "############################# PART I ##################################"
   ]
  },
  {
   "cell_type": "code",
   "execution_count": 10,
   "metadata": {},
   "outputs": [
    {
     "name": "stdout",
     "output_type": "stream",
     "text": [
      "q_10:\n"
     ]
    },
    {
     "data": {
      "text/latex": [
       "$\\displaystyle 0$"
      ],
      "text/plain": [
       "0"
      ]
     },
     "metadata": {},
     "output_type": "display_data"
    },
    {
     "name": "stdout",
     "output_type": "stream",
     "text": [
      "q_11:\n"
     ]
    },
    {
     "data": {
      "text/latex": [
       "$\\displaystyle \\frac{\\sqrt{6} i \\sqrt{\\pi} R^{4} \\rho_{0}}{12}$"
      ],
      "text/plain": [
       "sqrt(6)*I*sqrt(pi)*R**4*rho_0/12"
      ]
     },
     "metadata": {},
     "output_type": "display_data"
    }
   ],
   "source": [
    "# Define rho(r')\n",
    "rho_i = rho_0*sin(thp)*sin(php)\n",
    "\n",
    "# Evaluate the various multipole moments for rho(r')\n",
    "q_10_i = q_lm_sphere(1, 0, rho_i, R, thp, php)\n",
    "q_11_i = q_lm_sphere(1, 1, rho_i, R, thp, php)\n",
    "\n",
    "# Display outputs\n",
    "print(\"q_10:\")\n",
    "display(q_10_i)\n",
    "print(\"q_11:\")\n",
    "display(q_11_i)"
   ]
  },
  {
   "cell_type": "code",
   "execution_count": 11,
   "metadata": {},
   "outputs": [],
   "source": [
    "############################# PART II ##################################"
   ]
  },
  {
   "cell_type": "code",
   "execution_count": 12,
   "metadata": {},
   "outputs": [
    {
     "name": "stdout",
     "output_type": "stream",
     "text": [
      "q_20:\n"
     ]
    },
    {
     "data": {
      "text/latex": [
       "$\\displaystyle \\frac{4 \\sqrt{5} \\sqrt{\\pi} R^{5} \\rho_{0}}{75}$"
      ],
      "text/plain": [
       "4*sqrt(5)*sqrt(pi)*R**5*rho_0/75"
      ]
     },
     "metadata": {},
     "output_type": "display_data"
    },
    {
     "name": "stdout",
     "output_type": "stream",
     "text": [
      "q_21:\n"
     ]
    },
    {
     "data": {
      "text/latex": [
       "$\\displaystyle 0$"
      ],
      "text/plain": [
       "0"
      ]
     },
     "metadata": {},
     "output_type": "display_data"
    },
    {
     "name": "stdout",
     "output_type": "stream",
     "text": [
      "q_22:\n"
     ]
    },
    {
     "data": {
      "text/latex": [
       "$\\displaystyle 0$"
      ],
      "text/plain": [
       "0"
      ]
     },
     "metadata": {},
     "output_type": "display_data"
    }
   ],
   "source": [
    "# Define rho(r')\n",
    "rho_ii = rho_0*cos(thp)**2\n",
    "\n",
    "# Evaluate the various multipole moments for rho(r')\n",
    "q_20_ii = q_lm_sphere(2, 0, rho_ii, R, thp, php)\n",
    "q_21_ii = q_lm_sphere(2, 1, rho_ii, R, thp, php)\n",
    "q_22_ii = q_lm_sphere(2, 2, rho_ii, R, thp, php)\n",
    "\n",
    "# Display outputs\n",
    "print(\"q_20:\")\n",
    "display(q_20_ii)\n",
    "print(\"q_21:\")\n",
    "display(q_21_ii)\n",
    "print(\"q_22:\")\n",
    "display(q_22_ii)"
   ]
  },
  {
   "cell_type": "code",
   "execution_count": null,
   "metadata": {},
   "outputs": [],
   "source": []
  }
 ],
 "metadata": {
  "interpreter": {
   "hash": "916dbcbb3f70747c44a77c7bcd40155683ae19c65e1c03b4aa3499c5328201f1"
  },
  "kernelspec": {
   "display_name": "Python 3.8.10 64-bit",
   "name": "python3"
  },
  "language_info": {
   "codemirror_mode": {
    "name": "ipython",
    "version": 3
   },
   "file_extension": ".py",
   "mimetype": "text/x-python",
   "name": "python",
   "nbconvert_exporter": "python",
   "pygments_lexer": "ipython3",
   "version": "3.8.10"
  },
  "orig_nbformat": 4
 },
 "nbformat": 4,
 "nbformat_minor": 2
}
