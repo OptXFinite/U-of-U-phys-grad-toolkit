{
 "cells": [
  {
   "cell_type": "code",
   "execution_count": 1,
   "metadata": {},
   "outputs": [],
   "source": [
    "from sympy import *\n",
    "q, r, a = symbols(\"q r a\", positive = True)\n",
    "l, m, k = symbols(\"l m k\", integer = True)\n",
    "# th, ph = symbols(\"theta phi\")\n",
    "\n",
    "def qlm(l, m, charges):\n",
    "    q, r, th, ph = [], [], [], []\n",
    "    i = 0\n",
    "    q_lm = 0\n",
    "    for charge in charges:\n",
    "        q.append(1*charge[\"Q/q\"])\n",
    "        x_i = 1*charge[\"x/a\"]\n",
    "        y_i = 1*charge[\"y/a\"]\n",
    "        z_i = 1*charge[\"z/a\"]\n",
    "        r.append(sqrt(x_i**2+y_i**2+z_i**2))\n",
    "        th_arg = z_i/r[i] if r[i] != 0 else 0 # just taking care of div/0 cases\n",
    "        phi = atan2(x_i, y_i) if y_i != 0 else 0 # just taking care of div/0 cases\n",
    "        th.append(acos(th_arg))\n",
    "        ph.append(phi)\n",
    "        i += 1\n",
    "    \n",
    "    for i in range (0, len(charges)):\n",
    "        q_i = q[i]*r[i]**(l)*Ynm_c(l, m, th[i], ph[i]).expand(func=True).evalf()\n",
    "        print(\"Q_{}\".format(i+1))\n",
    "        display(q_i)\n",
    "        q_lm += q_i\n",
    "        \n",
    "    print(\"Q_lm\")\n",
    "    display(q_lm)\n",
    "    return q_lm"
   ]
  },
  {
   "cell_type": "code",
   "execution_count": 4,
   "metadata": {},
   "outputs": [
    {
     "name": "stdout",
     "output_type": "stream",
     "text": [
      "Q_1\n"
     ]
    },
    {
     "data": {
      "text/latex": [
       "$\\displaystyle 0$"
      ],
      "text/plain": [
       "0"
      ]
     },
     "metadata": {},
     "output_type": "display_data"
    },
    {
     "name": "stdout",
     "output_type": "stream",
     "text": [
      "Q_2\n"
     ]
    },
    {
     "data": {
      "text/latex": [
       "$\\displaystyle 0.105573374703362 - 0.198853959201538 i$"
      ],
      "text/plain": [
       "0.105573374703362 - 0.198853959201538*I"
      ]
     },
     "metadata": {},
     "output_type": "display_data"
    },
    {
     "name": "stdout",
     "output_type": "stream",
     "text": [
      "Q_3\n"
     ]
    },
    {
     "data": {
      "text/latex": [
       "$\\displaystyle 0.119312375520923 + 0.190899800833476 i$"
      ],
      "text/plain": [
       "0.119312375520923 + 0.190899800833476*I"
      ]
     },
     "metadata": {},
     "output_type": "display_data"
    },
    {
     "name": "stdout",
     "output_type": "stream",
     "text": [
      "Q_4\n"
     ]
    },
    {
     "data": {
      "text/latex": [
       "$\\displaystyle -0.225126785326347 + 0.00795415836806152 i$"
      ],
      "text/plain": [
       "-0.225126785326347 + 0.00795415836806152*I"
      ]
     },
     "metadata": {},
     "output_type": "display_data"
    },
    {
     "name": "stdout",
     "output_type": "stream",
     "text": [
      "Q_lm\n"
     ]
    },
    {
     "data": {
      "text/latex": [
       "$\\displaystyle -0.000241035102062442 - 2.25514051876985 \\cdot 10^{-17} i$"
      ],
      "text/plain": [
       "-0.000241035102062442 - 2.25514051876985e-17*I"
      ]
     },
     "metadata": {},
     "output_type": "display_data"
    },
    {
     "data": {
      "text/latex": [
       "$\\displaystyle -0.000241035102062442 - 2.25514051876985 \\cdot 10^{-17} i$"
      ],
      "text/plain": [
       "-0.000241035102062442 - 2.25514051876985e-17*I"
      ]
     },
     "metadata": {},
     "output_type": "display_data"
    }
   ],
   "source": [
    "example_charges_list = [\n",
    "    {\"Q/q\": -3,\n",
    "     \"x/a\": 0,\n",
    "     \"y/a\": 0,\n",
    "     \"z/a\": 0.067\n",
    "     },\n",
    "    {\"Q/q\": 1,\n",
    "     \"x/a\": 0.825,\n",
    "     \"y/a\": 0.438,\n",
    "     \"z/a\": -0.312\n",
    "     },\n",
    "    {\"Q/q\": 1,\n",
    "     \"x/a\": -0.792,\n",
    "     \"y/a\": 0.495,\n",
    "     \"z/a\": -0.312\n",
    "     },\n",
    "    {\"Q/q\": 1,\n",
    "     \"x/a\": -0.033,\n",
    "     \"y/a\": -0.934,\n",
    "     \"z/a\": -0.312\n",
    "     }\n",
    "]\n",
    "\n",
    "display(qlm(2, 1, example_charges_list).evalf())"
   ]
  },
  {
   "cell_type": "code",
   "execution_count": null,
   "metadata": {},
   "outputs": [],
   "source": []
  }
 ],
 "metadata": {
  "interpreter": {
   "hash": "916dbcbb3f70747c44a77c7bcd40155683ae19c65e1c03b4aa3499c5328201f1"
  },
  "kernelspec": {
   "display_name": "Python 3.8.10 64-bit",
   "name": "python3"
  },
  "language_info": {
   "codemirror_mode": {
    "name": "ipython",
    "version": 3
   },
   "file_extension": ".py",
   "mimetype": "text/x-python",
   "name": "python",
   "nbconvert_exporter": "python",
   "pygments_lexer": "ipython3",
   "version": "3.8.10"
  },
  "orig_nbformat": 4
 },
 "nbformat": 4,
 "nbformat_minor": 2
}
