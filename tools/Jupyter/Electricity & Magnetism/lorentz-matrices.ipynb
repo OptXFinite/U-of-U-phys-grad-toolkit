{
 "cells": [
  {
   "cell_type": "code",
   "execution_count": null,
   "source": [
    "from sympy import *\n",
    "x, y, z, x_p, y_p, z_p = symbols(\"x y z x' y' z'\")"
   ],
   "outputs": [],
   "metadata": {}
  },
  {
   "cell_type": "code",
   "execution_count": null,
   "source": [
    "lorents_matrix_general="
   ],
   "outputs": [],
   "metadata": {}
  },
  {
   "cell_type": "code",
   "execution_count": null,
   "source": [],
   "outputs": [],
   "metadata": {}
  }
 ],
 "metadata": {
  "orig_nbformat": 4,
  "kernelspec": {
   "name": "python3",
   "display_name": "Python 3"
  }
 },
 "nbformat": 4,
 "nbformat_minor": 2
}